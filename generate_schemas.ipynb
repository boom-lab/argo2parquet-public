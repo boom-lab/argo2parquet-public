{
 "cells": [
  {
   "cell_type": "code",
   "execution_count": 2,
   "id": "6339c6d8-7f6d-448f-a5f7-e2c21f9b9235",
   "metadata": {},
   "outputs": [],
   "source": [
    "from datetime import datetime\n",
    "import numpy as np\n",
    "import pandas as pd\n",
    "import xarray as xr\n",
    "import pyarrow as pa\n",
    "import pyarrow.parquet as pq\n",
    "import glob\n",
    "from pprint import pprint\n",
    "\n",
    "########### ARGO BGC ################################################\n",
    "# Paths on Poseidon cluster\n",
    "parquet_dir = '/vortexfs1/share/boom/data/nc2pqt_test/pqt/data/'\n",
    "# Setting up parquet schema\n",
    "schemas = []\n",
    "parquet_files = glob.glob(parquet_dir + 'ArgoBGC*.parquet')\n",
    "for parquet_file in parquet_files:\n",
    "    dataset = pq.ParquetDataset(parquet_file)\n",
    "    schemas.append(dataset.schema)\n",
    "BGC_schema = pa.unify_schemas(schemas, promote_options=\"permissive\")\n",
    "\n",
    "########### ARGO PHY ################################################\n",
    "# Paths on Poseidon cluster\n",
    "argo_dir = '/vortexfs1/share/boom/data/nc2pqt_test/pqt/data/'\n",
    "# Setting up parquet schema\n",
    "schemas = []\n",
    "argo_files = glob.glob(argo_dir + 'ArgoPHY*.parquet')\n",
    "for parquet_file in argo_files:\n",
    "    dataset = pq.ParquetDataset(parquet_file)\n",
    "    schemas.append(dataset.schema)\n",
    "PHY_schema = pa.unify_schemas(schemas, promote_options=\"permissive\")\n",
    "\n",
    "########### GLODAP ##################################################\n",
    "glodap_name = 'GLODAPv2.2023_Merged_Master_File.parquet'\n",
    "glodap_dir = '/vortexfs1/share/boom/data/nc2pqt_test/GLODAP/pqt/'\n",
    "glodap_file = glodap_dir + glodap_name\n",
    "glodap_ds = pq.ParquetDataset(glodap_file)\n",
    "GLODAP_schema = glodap_ds.schema"
   ]
  },
  {
   "cell_type": "code",
   "execution_count": 8,
   "id": "8248a8a2-676a-47a2-8f2c-1e4fc60056fa",
   "metadata": {},
   "outputs": [],
   "source": [
    "pq.write_metadata(BGC_schema, parquet_dir+'metadata/ArgoBGC_schema.metadata')\n",
    "pq.write_metadata(PHY_schema, parquet_dir+'metadata/ArgoPHY_schema.metadata')\n",
    "pq.write_metadata(GLODAP_schema, parquet_dir+'metadata/GLODAP_schema.metadata')"
   ]
  },
  {
   "cell_type": "code",
   "execution_count": 4,
   "id": "31946c4c-9fe9-4002-a4d2-7fa4bbf5631a",
   "metadata": {},
   "outputs": [],
   "source": [
    "PHY = pq.read_schema('ArgoBGC.metadata')"
   ]
  },
  {
   "cell_type": "code",
   "execution_count": 3,
   "id": "97552c9e-fa42-41ec-acd9-10f183a44d9d",
   "metadata": {},
   "outputs": [
    {
     "name": "stdout",
     "output_type": "stream",
     "text": [
      "PLATFORM_NUMBER: int64\n",
      "TEMP: float\n",
      "PRES: float\n",
      "LONGITUDE: double\n",
      "PRES_ADJUSTED: float\n",
      "LATITUDE: double\n",
      "TEMP_QC: int64\n",
      "TEMP_ADJUSTED_QC: int64\n",
      "PSAL: float\n",
      "PRES_ADJUSTED_ERROR: float\n",
      "JULD: timestamp[ns]\n",
      "CYCLE_NUMBER: int64\n",
      "TEMP_ADJUSTED: float\n",
      "TEMP_ADJUSTED_ERROR: float\n",
      "PSAL_ADJUSTED_QC: double\n",
      "PSAL_QC: double\n",
      "PRES_ADJUSTED_QC: int64\n",
      "PSAL_ADJUSTED: float\n",
      "PSAL_ADJUSTED_ERROR: float\n",
      "PRES_QC: int64\n",
      "N_PROF: int64\n",
      "N_LEVELS: int64\n",
      "DOXY: float\n",
      "DOXY_ADJUSTED: float\n",
      "DOXY_ADJUSTED_QC: double\n",
      "DOXY_ADJUSTED_ERROR: float\n",
      "DOXY_QC: double\n",
      "-- schema metadata --\n",
      "pandas: '{\"index_columns\": [\"N_PROF\", \"N_LEVELS\"], \"column_indexes\": [{\"n' + 2882\n"
     ]
    }
   ],
   "source": [
    "pprint(PHY_schema)"
   ]
  },
  {
   "cell_type": "code",
   "execution_count": null,
   "id": "9dfe61f1-5da4-46eb-ac84-716df8cd6663",
   "metadata": {},
   "outputs": [],
   "source": []
  }
 ],
 "metadata": {
  "kernelspec": {
   "display_name": "Python 3 (ipykernel)",
   "language": "python",
   "name": "python3"
  },
  "language_info": {
   "codemirror_mode": {
    "name": "ipython",
    "version": 3
   },
   "file_extension": ".py",
   "mimetype": "text/x-python",
   "name": "python",
   "nbconvert_exporter": "python",
   "pygments_lexer": "ipython3",
   "version": "3.9.10"
  }
 },
 "nbformat": 4,
 "nbformat_minor": 5
}
