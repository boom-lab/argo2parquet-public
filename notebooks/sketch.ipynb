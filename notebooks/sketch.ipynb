{
 "cells": [
  {
   "cell_type": "code",
   "execution_count": 1,
   "id": "5b0f1d6b-87bb-4500-8c81-5b6881efa636",
   "metadata": {},
   "outputs": [],
   "source": [
    "import pyarrow.parquet as pq"
   ]
  },
  {
   "cell_type": "code",
   "execution_count": 2,
   "id": "fc0245c8-c1fe-4369-aa13-c2090f72f631",
   "metadata": {},
   "outputs": [],
   "source": [
    "schema_path = \"/vortexfs1/share/boom/data/nc2pqt_test/pqt/data/metadata/ArgoPHY_schema.metadata\"\n",
    "PHY_schema = pq.read_schema(schema_path)\n",
    "todrop = [\"DOXY\",\"DOXY_ADJUSTED\",\"DOXY_ADJUSTED_QC\",\"DOXY_ADJUSTED_ERROR\",\"DOXY_QC\"]"
   ]
  },
  {
   "cell_type": "code",
   "execution_count": 3,
   "id": "6c576fb8-71ae-4099-a7af-2e12af6d34a7",
   "metadata": {},
   "outputs": [
    {
     "data": {
      "text/plain": [
       "PLATFORM_NUMBER: int64\n",
       "TEMP: float\n",
       "PRES: float\n",
       "LONGITUDE: double\n",
       "PRES_ADJUSTED: float\n",
       "LATITUDE: double\n",
       "TEMP_QC: int64\n",
       "TEMP_ADJUSTED_QC: int64\n",
       "PSAL: float\n",
       "PRES_ADJUSTED_ERROR: float\n",
       "JULD: timestamp[ns]\n",
       "CYCLE_NUMBER: int64\n",
       "TEMP_ADJUSTED: float\n",
       "TEMP_ADJUSTED_ERROR: float\n",
       "PSAL_ADJUSTED_QC: double\n",
       "PSAL_QC: double\n",
       "PRES_ADJUSTED_QC: int64\n",
       "PSAL_ADJUSTED: float\n",
       "PSAL_ADJUSTED_ERROR: float\n",
       "PRES_QC: int64\n",
       "N_PROF: int64\n",
       "N_LEVELS: int64\n",
       "DOXY: float\n",
       "DOXY_ADJUSTED: float\n",
       "DOXY_ADJUSTED_QC: double\n",
       "DOXY_ADJUSTED_ERROR: float\n",
       "DOXY_QC: double\n",
       "-- schema metadata --\n",
       "pandas: '{\"index_columns\": [\"N_PROF\", \"N_LEVELS\"], \"column_indexes\": [{\"n' + 2882"
      ]
     },
     "execution_count": 3,
     "metadata": {},
     "output_type": "execute_result"
    }
   ],
   "source": [
    "PHY_schema"
   ]
  },
  {
   "cell_type": "code",
   "execution_count": 4,
   "id": "f6f28a96-4c4c-4c8d-aafd-02bc296d733d",
   "metadata": {},
   "outputs": [],
   "source": [
    "for name in todrop:\n",
    "    idx = PHY_schema.get_field_index(name)\n",
    "    PHY_schema = PHY_schema.remove(idx)"
   ]
  },
  {
   "cell_type": "code",
   "execution_count": 5,
   "id": "ed2e531a-1570-47d8-afa8-5075a97b540b",
   "metadata": {},
   "outputs": [
    {
     "data": {
      "text/plain": [
       "PLATFORM_NUMBER: int64\n",
       "TEMP: float\n",
       "PRES: float\n",
       "LONGITUDE: double\n",
       "PRES_ADJUSTED: float\n",
       "LATITUDE: double\n",
       "TEMP_QC: int64\n",
       "TEMP_ADJUSTED_QC: int64\n",
       "PSAL: float\n",
       "PRES_ADJUSTED_ERROR: float\n",
       "JULD: timestamp[ns]\n",
       "CYCLE_NUMBER: int64\n",
       "TEMP_ADJUSTED: float\n",
       "TEMP_ADJUSTED_ERROR: float\n",
       "PSAL_ADJUSTED_QC: double\n",
       "PSAL_QC: double\n",
       "PRES_ADJUSTED_QC: int64\n",
       "PSAL_ADJUSTED: float\n",
       "PSAL_ADJUSTED_ERROR: float\n",
       "PRES_QC: int64\n",
       "N_PROF: int64\n",
       "N_LEVELS: int64\n",
       "-- schema metadata --\n",
       "pandas: '{\"index_columns\": [\"N_PROF\", \"N_LEVELS\"], \"column_indexes\": [{\"n' + 2882"
      ]
     },
     "execution_count": 5,
     "metadata": {},
     "output_type": "execute_result"
    }
   ],
   "source": [
    "PHY_schema"
   ]
  },
  {
   "cell_type": "code",
   "execution_count": 6,
   "id": "9151f727-6bb9-435a-b80d-a890613b843a",
   "metadata": {},
   "outputs": [],
   "source": [
    "parquet_dir = '/vortexfs1/share/boom/data/nc2pqt_test/pqt/data/'"
   ]
  },
  {
   "cell_type": "code",
   "execution_count": 7,
   "id": "8780945d-5eda-45b5-9fbb-d7371c57f5d4",
   "metadata": {},
   "outputs": [],
   "source": [
    "pq.write_metadata(PHY_schema, parquet_dir+'metadata/ArgoPHY_schema.metadata')"
   ]
  },
  {
   "cell_type": "code",
   "execution_count": 8,
   "id": "42d9bf89-4c8a-4145-9590-6bd757adb1f4",
   "metadata": {},
   "outputs": [],
   "source": [
    "PHY_schema = pq.read_schema(schema_path)"
   ]
  },
  {
   "cell_type": "code",
   "execution_count": 9,
   "id": "adaef3a6-356f-4e7f-bcf8-c8ed62bfce8c",
   "metadata": {},
   "outputs": [
    {
     "data": {
      "text/plain": [
       "PLATFORM_NUMBER: int64\n",
       "TEMP: float\n",
       "PRES: float\n",
       "LONGITUDE: double\n",
       "PRES_ADJUSTED: float\n",
       "LATITUDE: double\n",
       "TEMP_QC: int64\n",
       "TEMP_ADJUSTED_QC: int64\n",
       "PSAL: float\n",
       "PRES_ADJUSTED_ERROR: float\n",
       "JULD: timestamp[ns]\n",
       "CYCLE_NUMBER: int64\n",
       "TEMP_ADJUSTED: float\n",
       "TEMP_ADJUSTED_ERROR: float\n",
       "PSAL_ADJUSTED_QC: double\n",
       "PSAL_QC: double\n",
       "PRES_ADJUSTED_QC: int64\n",
       "PSAL_ADJUSTED: float\n",
       "PSAL_ADJUSTED_ERROR: float\n",
       "PRES_QC: int64\n",
       "N_PROF: int64\n",
       "N_LEVELS: int64\n",
       "-- schema metadata --\n",
       "pandas: '{\"index_columns\": [\"N_PROF\", \"N_LEVELS\"], \"column_indexes\": [{\"n' + 2882"
      ]
     },
     "execution_count": 9,
     "metadata": {},
     "output_type": "execute_result"
    }
   ],
   "source": [
    "PHY_schema"
   ]
  },
  {
   "cell_type": "code",
   "execution_count": null,
   "id": "143a56f7-c31d-442e-bf30-c4e8cba3eacb",
   "metadata": {},
   "outputs": [],
   "source": []
  }
 ],
 "metadata": {
  "kernelspec": {
   "display_name": "Python 3 (ipykernel)",
   "language": "python",
   "name": "python3"
  },
  "language_info": {
   "codemirror_mode": {
    "name": "ipython",
    "version": 3
   },
   "file_extension": ".py",
   "mimetype": "text/x-python",
   "name": "python",
   "nbconvert_exporter": "python",
   "pygments_lexer": "ipython3",
   "version": "3.9.10"
  }
 },
 "nbformat": 4,
 "nbformat_minor": 5
}
